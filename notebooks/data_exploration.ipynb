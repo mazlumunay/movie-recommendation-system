{
 "cells": [
  {
   "cell_type": "code",
   "execution_count": null,
   "metadata": {
    "vscode": {
     "languageId": "plaintext"
    }
   },
   "outputs": [],
   "source": [
    "import pandas as pd\n",
    "import numpy as np"
   ]
  },
  {
   "cell_type": "code",
   "execution_count": null,
   "metadata": {
    "vscode": {
     "languageId": "plaintext"
    }
   },
   "outputs": [],
   "source": [
    "# Load datasets\n",
    "movies = pd.read_csv('../data/ml-latest-small/movies.csv')\n",
    "ratings = pd.read_csv('../data/ml-latest-small/ratings.csv')\n",
    "tags = pd.read_csv('../data/ml-latest-small/tags.csv')"
   ]
  },
  {
   "cell_type": "code",
   "execution_count": null,
   "metadata": {
    "vscode": {
     "languageId": "plaintext"
    }
   },
   "outputs": [],
   "source": [
    "# Basic info\n",
    "print(\"Movies shape:\", movies.shape)\n",
    "print(\"Ratings shape:\", ratings.shape)\n",
    "print(\"Tags shape:\", tags.shape)"
   ]
  },
  {
   "cell_type": "code",
   "execution_count": null,
   "metadata": {
    "vscode": {
     "languageId": "plaintext"
    }
   },
   "outputs": [],
   "source": [
    "# Preview data\n",
    "movies.head()\n",
    "ratings.head()"
   ]
  },
  {
   "cell_type": "code",
   "execution_count": null,
   "metadata": {
    "vscode": {
     "languageId": "plaintext"
    }
   },
   "outputs": [],
   "source": [
    "# Basic stats\n",
    "print(f\"Number of unique users: {ratings.userId.nunique()}\")\n",
    "print(f\"Number of unique movies: {ratings.movieId.nunique()}\")\n",
    "print(f\"Rating range: {ratings.rating.min()} to {ratings.rating.max()}\")"
   ]
  }
 ],
 "metadata": {
  "language_info": {
   "name": "python"
  }
 },
 "nbformat": 4,
 "nbformat_minor": 2
}
